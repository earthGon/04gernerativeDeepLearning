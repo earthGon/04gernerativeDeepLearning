{
 "cells": [
  {
   "cell_type": "code",
   "execution_count": null,
   "metadata": {},
   "outputs": [],
   "source": [
    "# dataset. cuda 설정 필요?\n",
    "## shuffle 부분이 GPU에서 작동하도록.\n",
    "\n",
    "# celabA h5dy 어떻게 했는지 다시 알아보기\n",
    "## h5py 형식으로 바꾼다. 이때 분류작업을 한다.\n",
    "### zip을 풀면서 이름을 'ooo/ooo.jpg'처럼 만든다. 그럼 폴더를 사용하듯 indexing하며 분류할 수 있다.\n",
    "## 폴더 별로 읽어서 훈련한다.\n",
    "### 훈련하며 알아서 닫고 다음 폴더 읽음?\n",
    "\n",
    "# GDL의 celabA는 small 인가?"
   ]
  },
  {
   "cell_type": "code",
   "execution_count": null,
   "metadata": {},
   "outputs": [],
   "source": [
    "# conv로 모델 만들기\n",
    "## conv \n",
    "\n",
    "## 모델 내부에서 view처럼 작동하는 View class 만들기\n",
    "\n",
    "### 왜 필요? 어떤 기능 필요? \n",
    "#### sequential 내부에서 forward로 진행됨. \n",
    "#### Conv2d()나 Linear() 같은 함수는 노드 사이 관계와 parameters()만 표현함.\n",
    "#### 노드를 지목하고 싶음\n"
   ]
  },
  {
   "cell_type": "code",
   "execution_count": 4,
   "metadata": {},
   "outputs": [],
   "source": [
    "a = 1,\n",
    "b = (1,2),"
   ]
  },
  {
   "cell_type": "code",
   "execution_count": 7,
   "metadata": {},
   "outputs": [
    {
     "name": "stdout",
     "output_type": "stream",
     "text": [
      "<class 'tuple'> (1,)\n",
      "<class 'tuple'> ((1, 2),)\n",
      "1\n",
      "(1, 2)\n"
     ]
    }
   ],
   "source": [
    "print(type(a),a)\n",
    "print(type(b),b)\n",
    "print(*a)\n",
    "print(*b)\n"
   ]
  },
  {
   "cell_type": "code",
   "execution_count": 39,
   "metadata": {},
   "outputs": [],
   "source": [
    "def crop_centre(img, new_width, new_height):\n",
    "    height, width, _ = img.shape\n",
    "    startx = width//2 - new_width//2\n",
    "    starty = height//2 - new_height//2    \n",
    "    return img[  starty:starty + new_height, startx:startx + new_width, :]\n"
   ]
  },
  {
   "cell_type": "code",
   "execution_count": 59,
   "metadata": {},
   "outputs": [],
   "source": [
    "import torch\n",
    "from torch.utils.data import Dataset,DataLoader \n",
    "import numpy as np\n",
    "import h5py\n",
    "import matplotlib.pyplot as plt\n",
    "\n",
    "class CelebADataset(Dataset):\n",
    "    \n",
    "    def __init__(self, file):\n",
    "        self.file_object = h5py.File(file, 'r')\n",
    "        self.dataset = self.file_object['img_align_celeba']\n",
    "        pass\n",
    "    \n",
    "    def __len__(self):\n",
    "        return len(self.dataset)\n",
    "    \n",
    "    def __getitem__(self, index):\n",
    "        if (index >= len(self.dataset)):\n",
    "          raise IndexError()\n",
    "        img = np.array(self.dataset[str(index)+'.jpg'])\n",
    "        # 128x128 사각형으로 크롭\n",
    "        img = crop_centre(img, 128, 128)\n",
    "        return torch.FloatTensor(img).permute(2,0,1).view(3,128,128) / 255.0\n",
    "    \n",
    "    def plot_image(self, index):\n",
    "        img = np.array(self.dataset[str(index)+'.jpg'])\n",
    "        # 128x128 사각형으로 크롭\n",
    "        img = crop_centre(img, 128, 128)\n",
    "        plt.imshow(img, interpolation='nearest')\n",
    "        pass\n",
    "    "
   ]
  },
  {
   "cell_type": "code",
   "execution_count": 71,
   "metadata": {},
   "outputs": [],
   "source": [
    "import torch\n",
    "import torch.nn as nn\n",
    "\n",
    "class View(nn.Module):\n",
    "    def __init__(self,shape):\n",
    "        super().__init__()\n",
    "        self.shape = shape,\n",
    "    def forward(self,x):\n",
    "        return x.view(*self.shape)"
   ]
  },
  {
   "cell_type": "code",
   "execution_count": 67,
   "metadata": {},
   "outputs": [],
   "source": [
    "class ConvVAE(nn.Module):\n",
    "    def __init__(self,dim_latent=200):\n",
    "        # 파이토치 부모 클래스 초기화\n",
    "        super().__init__()\n",
    "        self.dim_latent = dim_latent\n",
    "       # 신경망 레이어 정의\n",
    "        self.encoder = nn.Sequential(\n",
    "            # (1,3,128,128) 형태를 의도\n",
    "            nn.Conv2d(3, 32, kernel_size=2, stride=2),\n",
    "            nn.BatchNorm2d(32),\n",
    "            nn.LeakyReLU(0.2),\n",
    "            nn.Dropout(0.1),\n",
    "            #(1,32,64,64)\n",
    "            \n",
    "            nn.Conv2d(32, 64, kernel_size=2, stride=2),\n",
    "            nn.BatchNorm2d(64),\n",
    "            nn.LeakyReLU(0.2),\n",
    "            nn.Dropout(0.1),\n",
    "            #(1,64,32,32)\n",
    "\n",
    "            nn.Conv2d(64, 64, kernel_size=2, stride=2),\n",
    "            nn.BatchNorm2d(64),\n",
    "            nn.LeakyReLU(0.2),\n",
    "            nn.Dropout(0.1),\n",
    "            #(1,64,16,16)\n",
    "            \n",
    "            nn.Conv2d(64, 64, kernel_size=2, stride=2),\n",
    "            nn.BatchNorm2d(64),\n",
    "            nn.LeakyReLU(0.2),\n",
    "            nn.Dropout(0.1),\n",
    "            #(1,64,8,8)\n",
    "\n",
    "            View((-1,64*8*8)),\n",
    "            nn.Linear(64*8*8, 2*self.dim_latent),\n",
    "        )\n",
    "        \n",
    "        self.decoder = nn.Sequential(\n",
    "            #(200)\n",
    "            nn.Linear(self.dim_latent,64*8*8),\n",
    "            View((-1,64,8,8)),\n",
    "            #(64,8,8)\n",
    "\n",
    "            nn.ConvTranspose2d(64,64,2,stride=2),\n",
    "            nn.BatchNorm2d(64),\n",
    "            nn.LeakyReLU(0.2),\n",
    "            nn.Dropout(0.1),            \n",
    "            #(64,16,16)\n",
    "\n",
    "            nn.ConvTranspose2d(64,64,2,stride=2),\n",
    "            nn.BatchNorm2d(64),\n",
    "            nn.LeakyReLU(0.2),\n",
    "            nn.Dropout(0.1),\n",
    "            #(64,32,32)\n",
    "\n",
    "            nn.ConvTranspose2d(64,32,2,stride=2),\n",
    "            nn.BatchNorm2d(32),\n",
    "            nn.LeakyReLU(0.2),\n",
    "            nn.Dropout(0.1),\n",
    "            #(32,64,64)\n",
    "\n",
    "            nn.ConvTranspose2d(32,3,2,stride=2),\n",
    "            nn.Sigmoid()\n",
    "            #(3,128,128)\n",
    "        )\n",
    "\n",
    "        # 손실 함수 생성\n",
    "        self.loss_function = nn.BCELoss()\n",
    "\n",
    "        # 옵티마이저 생성\n",
    "        self.optimiser = torch.optim.Adam(self.parameters(), lr=0.0001)\n",
    "    def forward(self,x):\n",
    "        x = self.encoder(x)\n",
    "        print(x.shape)\n",
    "        x = x.view(-1,2,self.dim_latent)\n",
    "\n",
    "        self.mu = x[:,0,:]\n",
    "        self.log_var = x[:,1,:]\n",
    "        print(self.mu.shape)\n",
    "        print(self.log_var.shape)\n",
    "\n",
    "        epsilon = torch.randn_like(self.mu)\n",
    "        sigma = torch.exp(self.log_var/2)\n",
    "\n",
    "        self.z = self.mu+sigma*epsilon\n",
    "        de = self.decoder(self.z)\n",
    "        return de\n",
    "\n",
    "    def train(self,data_loader):\n",
    "        for epoch in range(1, 101):\n",
    "            for x_input in data_loader:\n",
    "                self.optimiser.zero_grad()\n",
    "                print(x_input.shape)\n",
    "                y_pred = self.forward(x_input)\n",
    "                \n",
    "                mse_loss = ((y_pred- x_input)**2).sum()\n",
    "                kl_loss = -0.5*torch.sum(1+self.log_var-2*self.mu**2 - 2*torch.exp(self.log_var))\n",
    "                loss = mse_loss+kl_loss*10000\n",
    "                loss.backward()\n",
    "                self.optimiser.step()\n",
    "            if epoch % 10 == 0:\n",
    "                print(f\"Epoch {epoch}: loss = {loss.item()}\")\n"
   ]
  },
  {
   "cell_type": "code",
   "execution_count": 68,
   "metadata": {},
   "outputs": [
    {
     "name": "stdout",
     "output_type": "stream",
     "text": [
      "torch.Size([1, 400])\n",
      "torch.Size([1, 200])\n",
      "torch.Size([1, 200])\n"
     ]
    },
    {
     "data": {
      "text/plain": [
       "torch.Size([1, 3, 128, 128])"
      ]
     },
     "execution_count": 68,
     "metadata": {},
     "output_type": "execute_result"
    }
   ],
   "source": [
    "x_input = torch.FloatTensor(torch.randn((1,3,128,128)))\n",
    "model = ConvVAE()\n",
    "model(x_input).shape"
   ]
  },
  {
   "cell_type": "code",
   "execution_count": 69,
   "metadata": {},
   "outputs": [],
   "source": [
    "dataset = CelebADataset('./data/celeba_aligned_small.h5py')\n",
    "dataloader = DataLoader(dataset,32,True)\n"
   ]
  },
  {
   "cell_type": "code",
   "execution_count": 70,
   "metadata": {},
   "outputs": [
    {
     "name": "stdout",
     "output_type": "stream",
     "text": [
      "torch.Size([32, 3, 128, 128])\n",
      "torch.Size([32, 400])\n",
      "torch.Size([32, 200])\n",
      "torch.Size([32, 200])\n",
      "--hi\n",
      "hi\n",
      "torch.Size([32, 3, 128, 128])\n",
      "torch.Size([32, 400])\n",
      "torch.Size([32, 200])\n",
      "torch.Size([32, 200])\n",
      "--hi\n",
      "hi\n",
      "torch.Size([32, 3, 128, 128])\n",
      "torch.Size([32, 400])\n",
      "torch.Size([32, 200])\n",
      "torch.Size([32, 200])\n",
      "--hi\n",
      "hi\n",
      "torch.Size([32, 3, 128, 128])\n",
      "torch.Size([32, 400])\n",
      "torch.Size([32, 200])\n",
      "torch.Size([32, 200])\n",
      "--hi\n",
      "hi\n",
      "torch.Size([32, 3, 128, 128])\n",
      "torch.Size([32, 400])\n",
      "torch.Size([32, 200])\n",
      "torch.Size([32, 200])\n",
      "--hi\n",
      "hi\n",
      "torch.Size([32, 3, 128, 128])\n",
      "torch.Size([32, 400])\n",
      "torch.Size([32, 200])\n",
      "torch.Size([32, 200])\n",
      "--hi\n",
      "hi\n",
      "torch.Size([32, 3, 128, 128])\n",
      "torch.Size([32, 400])\n",
      "torch.Size([32, 200])\n",
      "torch.Size([32, 200])\n",
      "--hi\n",
      "hi\n",
      "torch.Size([32, 3, 128, 128])\n",
      "torch.Size([32, 400])\n",
      "torch.Size([32, 200])\n",
      "torch.Size([32, 200])\n",
      "--hi\n",
      "hi\n",
      "torch.Size([32, 3, 128, 128])\n",
      "torch.Size([32, 400])\n",
      "torch.Size([32, 200])\n",
      "torch.Size([32, 200])\n",
      "--hi\n",
      "hi\n",
      "torch.Size([32, 3, 128, 128])\n",
      "torch.Size([32, 400])\n",
      "torch.Size([32, 200])\n",
      "torch.Size([32, 200])\n",
      "--hi\n",
      "hi\n",
      "torch.Size([32, 3, 128, 128])\n",
      "torch.Size([32, 400])\n",
      "torch.Size([32, 200])\n",
      "torch.Size([32, 200])\n",
      "--hi\n",
      "hi\n",
      "torch.Size([32, 3, 128, 128])\n",
      "torch.Size([32, 400])\n",
      "torch.Size([32, 200])\n",
      "torch.Size([32, 200])\n",
      "--hi\n",
      "hi\n",
      "torch.Size([32, 3, 128, 128])\n",
      "torch.Size([32, 400])\n",
      "torch.Size([32, 200])\n",
      "torch.Size([32, 200])\n",
      "--hi\n",
      "hi\n",
      "torch.Size([32, 3, 128, 128])\n",
      "torch.Size([32, 400])\n",
      "torch.Size([32, 200])\n",
      "torch.Size([32, 200])\n",
      "--hi\n",
      "hi\n",
      "torch.Size([32, 3, 128, 128])\n",
      "torch.Size([32, 400])\n",
      "torch.Size([32, 200])\n",
      "torch.Size([32, 200])\n",
      "--hi\n",
      "hi\n",
      "torch.Size([32, 3, 128, 128])\n",
      "torch.Size([32, 400])\n",
      "torch.Size([32, 200])\n",
      "torch.Size([32, 200])\n",
      "--hi\n",
      "hi\n"
     ]
    },
    {
     "ename": "KeyboardInterrupt",
     "evalue": "",
     "output_type": "error",
     "traceback": [
      "\u001b[1;31m---------------------------------------------------------------------------\u001b[0m",
      "\u001b[1;31mKeyboardInterrupt\u001b[0m                         Traceback (most recent call last)",
      "Cell \u001b[1;32mIn[70], line 1\u001b[0m\n\u001b[1;32m----> 1\u001b[0m model\u001b[39m.\u001b[39;49mtrain(dataloader)\n",
      "Cell \u001b[1;32mIn[67], line 90\u001b[0m, in \u001b[0;36mConvVAE.train\u001b[1;34m(self, data_loader)\u001b[0m\n\u001b[0;32m     88\u001b[0m \u001b[39mdef\u001b[39;00m \u001b[39mtrain\u001b[39m(\u001b[39mself\u001b[39m,data_loader):\n\u001b[0;32m     89\u001b[0m     \u001b[39mfor\u001b[39;00m epoch \u001b[39min\u001b[39;00m \u001b[39mrange\u001b[39m(\u001b[39m1\u001b[39m, \u001b[39m101\u001b[39m):\n\u001b[1;32m---> 90\u001b[0m         \u001b[39mfor\u001b[39;00m x_input \u001b[39min\u001b[39;00m data_loader:\n\u001b[0;32m     91\u001b[0m             \u001b[39mself\u001b[39m\u001b[39m.\u001b[39moptimiser\u001b[39m.\u001b[39mzero_grad()\n\u001b[0;32m     92\u001b[0m             \u001b[39mprint\u001b[39m(x_input\u001b[39m.\u001b[39mshape)\n",
      "File \u001b[1;32md:\\miniconda3\\envs\\torch\\lib\\site-packages\\torch\\utils\\data\\dataloader.py:628\u001b[0m, in \u001b[0;36m_BaseDataLoaderIter.__next__\u001b[1;34m(self)\u001b[0m\n\u001b[0;32m    625\u001b[0m \u001b[39mif\u001b[39;00m \u001b[39mself\u001b[39m\u001b[39m.\u001b[39m_sampler_iter \u001b[39mis\u001b[39;00m \u001b[39mNone\u001b[39;00m:\n\u001b[0;32m    626\u001b[0m     \u001b[39m# TODO(https://github.com/pytorch/pytorch/issues/76750)\u001b[39;00m\n\u001b[0;32m    627\u001b[0m     \u001b[39mself\u001b[39m\u001b[39m.\u001b[39m_reset()  \u001b[39m# type: ignore[call-arg]\u001b[39;00m\n\u001b[1;32m--> 628\u001b[0m data \u001b[39m=\u001b[39m \u001b[39mself\u001b[39;49m\u001b[39m.\u001b[39;49m_next_data()\n\u001b[0;32m    629\u001b[0m \u001b[39mself\u001b[39m\u001b[39m.\u001b[39m_num_yielded \u001b[39m+\u001b[39m\u001b[39m=\u001b[39m \u001b[39m1\u001b[39m\n\u001b[0;32m    630\u001b[0m \u001b[39mif\u001b[39;00m \u001b[39mself\u001b[39m\u001b[39m.\u001b[39m_dataset_kind \u001b[39m==\u001b[39m _DatasetKind\u001b[39m.\u001b[39mIterable \u001b[39mand\u001b[39;00m \\\n\u001b[0;32m    631\u001b[0m         \u001b[39mself\u001b[39m\u001b[39m.\u001b[39m_IterableDataset_len_called \u001b[39mis\u001b[39;00m \u001b[39mnot\u001b[39;00m \u001b[39mNone\u001b[39;00m \u001b[39mand\u001b[39;00m \\\n\u001b[0;32m    632\u001b[0m         \u001b[39mself\u001b[39m\u001b[39m.\u001b[39m_num_yielded \u001b[39m>\u001b[39m \u001b[39mself\u001b[39m\u001b[39m.\u001b[39m_IterableDataset_len_called:\n",
      "File \u001b[1;32md:\\miniconda3\\envs\\torch\\lib\\site-packages\\torch\\utils\\data\\dataloader.py:671\u001b[0m, in \u001b[0;36m_SingleProcessDataLoaderIter._next_data\u001b[1;34m(self)\u001b[0m\n\u001b[0;32m    669\u001b[0m \u001b[39mdef\u001b[39;00m \u001b[39m_next_data\u001b[39m(\u001b[39mself\u001b[39m):\n\u001b[0;32m    670\u001b[0m     index \u001b[39m=\u001b[39m \u001b[39mself\u001b[39m\u001b[39m.\u001b[39m_next_index()  \u001b[39m# may raise StopIteration\u001b[39;00m\n\u001b[1;32m--> 671\u001b[0m     data \u001b[39m=\u001b[39m \u001b[39mself\u001b[39;49m\u001b[39m.\u001b[39;49m_dataset_fetcher\u001b[39m.\u001b[39;49mfetch(index)  \u001b[39m# may raise StopIteration\u001b[39;00m\n\u001b[0;32m    672\u001b[0m     \u001b[39mif\u001b[39;00m \u001b[39mself\u001b[39m\u001b[39m.\u001b[39m_pin_memory:\n\u001b[0;32m    673\u001b[0m         data \u001b[39m=\u001b[39m _utils\u001b[39m.\u001b[39mpin_memory\u001b[39m.\u001b[39mpin_memory(data, \u001b[39mself\u001b[39m\u001b[39m.\u001b[39m_pin_memory_device)\n",
      "File \u001b[1;32md:\\miniconda3\\envs\\torch\\lib\\site-packages\\torch\\utils\\data\\_utils\\fetch.py:58\u001b[0m, in \u001b[0;36m_MapDatasetFetcher.fetch\u001b[1;34m(self, possibly_batched_index)\u001b[0m\n\u001b[0;32m     56\u001b[0m         data \u001b[39m=\u001b[39m \u001b[39mself\u001b[39m\u001b[39m.\u001b[39mdataset\u001b[39m.\u001b[39m__getitems__(possibly_batched_index)\n\u001b[0;32m     57\u001b[0m     \u001b[39melse\u001b[39;00m:\n\u001b[1;32m---> 58\u001b[0m         data \u001b[39m=\u001b[39m [\u001b[39mself\u001b[39m\u001b[39m.\u001b[39mdataset[idx] \u001b[39mfor\u001b[39;00m idx \u001b[39min\u001b[39;00m possibly_batched_index]\n\u001b[0;32m     59\u001b[0m \u001b[39melse\u001b[39;00m:\n\u001b[0;32m     60\u001b[0m     data \u001b[39m=\u001b[39m \u001b[39mself\u001b[39m\u001b[39m.\u001b[39mdataset[possibly_batched_index]\n",
      "File \u001b[1;32md:\\miniconda3\\envs\\torch\\lib\\site-packages\\torch\\utils\\data\\_utils\\fetch.py:58\u001b[0m, in \u001b[0;36m<listcomp>\u001b[1;34m(.0)\u001b[0m\n\u001b[0;32m     56\u001b[0m         data \u001b[39m=\u001b[39m \u001b[39mself\u001b[39m\u001b[39m.\u001b[39mdataset\u001b[39m.\u001b[39m__getitems__(possibly_batched_index)\n\u001b[0;32m     57\u001b[0m     \u001b[39melse\u001b[39;00m:\n\u001b[1;32m---> 58\u001b[0m         data \u001b[39m=\u001b[39m [\u001b[39mself\u001b[39;49m\u001b[39m.\u001b[39;49mdataset[idx] \u001b[39mfor\u001b[39;00m idx \u001b[39min\u001b[39;00m possibly_batched_index]\n\u001b[0;32m     59\u001b[0m \u001b[39melse\u001b[39;00m:\n\u001b[0;32m     60\u001b[0m     data \u001b[39m=\u001b[39m \u001b[39mself\u001b[39m\u001b[39m.\u001b[39mdataset[possibly_batched_index]\n",
      "Cell \u001b[1;32mIn[59], line 20\u001b[0m, in \u001b[0;36mCelebADataset.__getitem__\u001b[1;34m(self, index)\u001b[0m\n\u001b[0;32m     18\u001b[0m \u001b[39mif\u001b[39;00m (index \u001b[39m>\u001b[39m\u001b[39m=\u001b[39m \u001b[39mlen\u001b[39m(\u001b[39mself\u001b[39m\u001b[39m.\u001b[39mdataset)):\n\u001b[0;32m     19\u001b[0m   \u001b[39mraise\u001b[39;00m \u001b[39mIndexError\u001b[39;00m()\n\u001b[1;32m---> 20\u001b[0m img \u001b[39m=\u001b[39m np\u001b[39m.\u001b[39;49marray(\u001b[39mself\u001b[39;49m\u001b[39m.\u001b[39;49mdataset[\u001b[39mstr\u001b[39;49m(index)\u001b[39m+\u001b[39;49m\u001b[39m'\u001b[39;49m\u001b[39m.jpg\u001b[39;49m\u001b[39m'\u001b[39;49m])\n\u001b[0;32m     21\u001b[0m \u001b[39m# 128x128 사각형으로 크롭\u001b[39;00m\n\u001b[0;32m     22\u001b[0m img \u001b[39m=\u001b[39m crop_centre(img, \u001b[39m128\u001b[39m, \u001b[39m128\u001b[39m)\n",
      "File \u001b[1;32mh5py\\_objects.pyx:54\u001b[0m, in \u001b[0;36mh5py._objects.with_phil.wrapper\u001b[1;34m()\u001b[0m\n",
      "File \u001b[1;32mh5py\\_objects.pyx:55\u001b[0m, in \u001b[0;36mh5py._objects.with_phil.wrapper\u001b[1;34m()\u001b[0m\n",
      "File \u001b[1;32md:\\miniconda3\\envs\\torch\\lib\\site-packages\\h5py\\_hl\\dataset.py:1073\u001b[0m, in \u001b[0;36mDataset.__array__\u001b[1;34m(self, dtype)\u001b[0m\n\u001b[0;32m   1070\u001b[0m \u001b[39mif\u001b[39;00m numpy\u001b[39m.\u001b[39mproduct(\u001b[39mself\u001b[39m\u001b[39m.\u001b[39mshape, dtype\u001b[39m=\u001b[39mnumpy\u001b[39m.\u001b[39mulonglong) \u001b[39m==\u001b[39m \u001b[39m0\u001b[39m:\n\u001b[0;32m   1071\u001b[0m     \u001b[39mreturn\u001b[39;00m arr\n\u001b[1;32m-> 1073\u001b[0m \u001b[39mself\u001b[39;49m\u001b[39m.\u001b[39;49mread_direct(arr)\n\u001b[0;32m   1074\u001b[0m \u001b[39mreturn\u001b[39;00m arr\n",
      "File \u001b[1;32md:\\miniconda3\\envs\\torch\\lib\\site-packages\\h5py\\_hl\\dataset.py:1034\u001b[0m, in \u001b[0;36mDataset.read_direct\u001b[1;34m(self, dest, source_sel, dest_sel)\u001b[0m\n\u001b[0;32m   1031\u001b[0m     dest_sel \u001b[39m=\u001b[39m sel\u001b[39m.\u001b[39mselect(dest\u001b[39m.\u001b[39mshape, dest_sel)\n\u001b[0;32m   1033\u001b[0m \u001b[39mfor\u001b[39;00m mspace \u001b[39min\u001b[39;00m dest_sel\u001b[39m.\u001b[39mbroadcast(source_sel\u001b[39m.\u001b[39marray_shape):\n\u001b[1;32m-> 1034\u001b[0m     \u001b[39mself\u001b[39;49m\u001b[39m.\u001b[39;49mid\u001b[39m.\u001b[39;49mread(mspace, fspace, dest, dxpl\u001b[39m=\u001b[39;49m\u001b[39mself\u001b[39;49m\u001b[39m.\u001b[39;49m_dxpl)\n",
      "\u001b[1;31mKeyboardInterrupt\u001b[0m: "
     ]
    }
   ],
   "source": [
    "model.train(dataloader)"
   ]
  },
  {
   "cell_type": "code",
   "execution_count": null,
   "metadata": {},
   "outputs": [],
   "source": []
  }
 ],
 "metadata": {
  "kernelspec": {
   "display_name": "torch",
   "language": "python",
   "name": "python3"
  },
  "language_info": {
   "codemirror_mode": {
    "name": "ipython",
    "version": 3
   },
   "file_extension": ".py",
   "mimetype": "text/x-python",
   "name": "python",
   "nbconvert_exporter": "python",
   "pygments_lexer": "ipython3",
   "version": "3.9.16"
  },
  "orig_nbformat": 4,
  "vscode": {
   "interpreter": {
    "hash": "747fe91b7bc9ec9d8624ac8c139c41948fb906c2c40d5ffbc4d71da454373257"
   }
  }
 },
 "nbformat": 4,
 "nbformat_minor": 2
}
