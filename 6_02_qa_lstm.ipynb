{
 "cells": [
  {
   "attachments": {},
   "cell_type": "markdown",
   "metadata": {},
   "source": [
    "이번 실습 data preprocess는 모두 gan GDL github 참고"
   ]
  },
  {
   "cell_type": "code",
   "execution_count": 1,
   "metadata": {},
   "outputs": [
    {
     "name": "stdout",
     "output_type": "stream",
     "text": [
      "dimensions 100\n"
     ]
    }
   ],
   "source": [
    "from utils.write import training_data, test_data, collapse_documents, expand_answers, _read_data, glove\n",
    "training_data_gen = training_data()\n",
    "# training_data_gen = [next(training_data_gen)]\n",
    "test_data_gen = test_data()\n"
   ]
  },
  {
   "cell_type": "code",
   "execution_count": 2,
   "metadata": {},
   "outputs": [],
   "source": [
    "t = next(training_data_gen)"
   ]
  },
  {
   "cell_type": "code",
   "execution_count": 3,
   "metadata": {},
   "outputs": [
    {
     "name": "stdout",
     "output_type": "stream",
     "text": [
      "document_tokens\n",
      " [3695    5  856    1 4601    1   66    4  219   99  216   10  856 3345\n",
      "   15 1119  339   29   33 3854  221    8 2630 6558    5   28   22  194\n",
      "  676 2743   10    4  123   12  139    6   29   54  410   33  909   11\n",
      "  529    7  194  821   10 6558    5   35   23   12  162 5156   66  124\n",
      "   91    1 6167    1 4571   66    8  159   30  151 1399  963   64    5\n",
      "   28 2683 3549 9316  154   11 1076  172  447  183   20  796    1    5\n",
      "    4  940  597 2077 2017    8    4  123    6    4  172  447    1   20\n",
      "   11  527   24   99  496    7  474  889 3289    5   39   18   53    8\n",
      "  699   20 4571    6 9316 2601   11  178  952   95 1086   10    4 5393\n",
      " 6558  623   22  199   22   38  738    5   35  150    1    9 9316 6711\n",
      "   15  181  209    1 2854  706   13 9952 1119  399  106   30 1999   87\n",
      " 1086    6  120   22   10    4  396    1  952    5    4  714    5   40\n",
      "   19    5   17    8 1860    4  279    7    4 1723   70    6   29  102\n",
      "   42  268   54  461 2240   60  821   10  856  433   17   84   82  837\n",
      "    8 1941   98    4]\n",
      "\n",
      "\n",
      "question_input_tokens\n",
      " [   2   62   87   23 1086  188    0    0    0    0    0    0    0    0\n",
      "    0    0    0    0    0    0    0    0    0    0    0    0    0    0\n",
      "    0    0    0    0    0    0]\n",
      "\n",
      "\n",
      "answer_masks\n",
      " [[0 0 0 ... 0 0 0]\n",
      " [0 0 0 ... 0 0 0]\n",
      " [0 0 0 ... 0 0 0]\n",
      " ...\n",
      " [0 0 0 ... 0 0 0]\n",
      " [0 0 0 ... 0 0 0]\n",
      " [0 0 0 ... 0 0 0]]\n",
      "\n",
      "\n",
      "answer_labels\n",
      " [0 0 0 0 0 0 0 0 0 0 0 0 0 0 0 0 0 0 0 0 0 0 0 0 0 0 0 0 0 0 0 0 0 0 0 0 0\n",
      " 0 0 0 0 0 0 0 0 0 0 1 0 0 0 0 0 0 0 0 0 0 0 0 0 0 0 0 0 0 0 0 0 0 0 0 0 0\n",
      " 0 0 0 0 0 0 0 0 0 0 0 0 0 0 0 0 0 0 0 0 0 0 0 0 0 0 0 0 0 0 0 0 0 0 0 0 0\n",
      " 0 0 0 0 0 0 0 0 0 0 0 0 0 0 0 0 0 1 1 1 1 1 0 0 0 0 0 0 0 0 0 0 0 0 0 0 0\n",
      " 0 0 0 0 0 0 0 0 0 0 0 0 0 0 0 0 0 0 0 0 0 0 0 0 0 0 0 0 0 0 0 0 0 0 0 0 0\n",
      " 0 0 0 0 0 0 0 0 0 0 0 0 0 0 0]\n",
      "\n",
      "\n",
      "question_output_tokens\n",
      " [  62   87   23 1086  188    3    0    0    0    0    0    0    0    0\n",
      "    0    0    0    0    0    0    0    0    0    0    0    0    0    0\n",
      "    0    0    0    0    0    0]\n"
     ]
    }
   ],
   "source": [
    "idx = 0\n",
    "\n",
    "print('document_tokens\\n', t['document_tokens'][idx])\n",
    "print('\\n')\n",
    "print('question_input_tokens\\n', t['question_input_tokens'][idx])\n",
    "print('\\n')\n",
    "print('answer_masks\\n', t['answer_masks'][idx])\n",
    "print('\\n')\n",
    "print('answer_labels\\n', t['answer_labels'][idx])\n",
    "print('\\n')\n",
    "print('question_output_tokens\\n', t['question_output_tokens'][idx])"
   ]
  },
  {
   "cell_type": "code",
   "execution_count": 4,
   "metadata": {},
   "outputs": [
    {
     "name": "stdout",
     "output_type": "stream",
     "text": [
      "GLOVE\n",
      "VOCAB_SIZE:  9984\n",
      "EMBEDDING_DIMENS:  100\n"
     ]
    }
   ],
   "source": [
    "# GloVe\n",
    "\n",
    "VOCAB_SIZE = glove.shape[0]\n",
    "EMBEDDING_DIMENS = glove.shape[1]\n",
    "\n",
    "print('GLOVE')\n",
    "print('VOCAB_SIZE: ', VOCAB_SIZE)\n",
    "print('EMBEDDING_DIMENS: ', EMBEDDING_DIMENS)\n",
    "\n",
    "GRU_UNITS = 100"
   ]
  },
  {
   "cell_type": "code",
   "execution_count": 5,
   "metadata": {},
   "outputs": [],
   "source": [
    "MAX_DOC_SIZE = None\n",
    "MAX_ANSWER_SIZE = None\n",
    "MAX_Q_SIZE = None"
   ]
  },
  {
   "cell_type": "code",
   "execution_count": 14,
   "metadata": {},
   "outputs": [],
   "source": [
    "import numpy as np\n",
    "import torch\n",
    "from collections import Counter\n",
    "import re\n",
    "import torch.nn as nn\n",
    "import torch.nn.functional as F\n",
    "from torch.optim import RMSprop,Adam\n",
    "\n",
    "class answerMask(nn.Module):\n",
    "    def __init__(self,seq_length=200):\n",
    "        super().__init__()\n",
    "        self.seq_length = 200    \n",
    "        self.n_units = 128\n",
    "        embedding_size = self.n_units #n_units에 맞추기\n",
    "        total_words = 9984 # gloVe dim에 맞추기\n",
    "        self.num_layers = 1 #적층 레이어를 위해\n",
    "        self.batch_size =1\n",
    "\n",
    "        self.embed = nn.Embedding(\n",
    "            num_embeddings=total_words, embedding_dim= embedding_size\n",
    "        )\n",
    "        self.answer_mask_gru = nn.GRU(\n",
    "            input_size=self.n_units,\n",
    "            hidden_size=self.n_units,\n",
    "            batch_first=True,\n",
    "            dropout=0.2,            \n",
    "        )\n",
    "        self.answer_mask = nn.Sequential(\n",
    "            nn.Linear(self.n_units,2), \n",
    "            nn.Softmax(), \n",
    "        )\n",
    "\n",
    "        self.loss_fn = nn.CrossEntropyLoss()\n",
    "        self.optimizer = Adam(self.parameters(),lr=0.001)\n",
    "    def forward(self,x,prev_state):  \n",
    "        # [126, 200]\n",
    "        print(\"x.shape\",x.shape)\n",
    "        emb_init = self.embed(x) \n",
    "        # [126, 200, 128] #prev_state [1, 126, 128]을 원함\n",
    "        print(\"emb_init.shape\",emb_init.shape)\n",
    "        self.output,state =self.answer_mask_gru(emb_init,prev_state)\n",
    "        # [126, 200, 128] [1, 126, 128]\n",
    "        print(\"self.output.shape\",self.output.shape)\n",
    "        print(\"state.shape\",state.shape)\n",
    "        mask = self.answer_mask(self.output)\n",
    "        # [126, 200, 2]\n",
    "        print(\"mask.shape\",mask.shape)\n",
    "        return mask \n",
    "\n",
    "    def init_state(self):\n",
    "        return torch.zeros(self.num_layers, self.batch_size, self.n_units)\n",
    "    \n",
    "    def build_loss(self,document,answer_label):\n",
    "        self.batch_size = document.shape[0]\n",
    "        state_h = self.init_state()\n",
    "        self.optimizer.zero_grad()\n",
    "\n",
    "        y_pred = self.forward(document, state_h)\n",
    "        y_pred = y_pred.view(-1,2)\n",
    "        loss = self.loss_fn(y_pred, answer_label)\n",
    "\n",
    "        # loss.backward()\n",
    "        # self.optimizer.step()\n",
    "\n",
    "        return loss\n",
    "        \n",
    "        \n"
   ]
  },
  {
   "cell_type": "code",
   "execution_count": 65,
   "metadata": {},
   "outputs": [],
   "source": [
    "class QnAEncoderDecoderModel(nn.Module):\n",
    "    def __init__(self,seq_length=20):\n",
    "        super().__init__()\n",
    "        \n",
    "        # n_units = 256\n",
    "        # embedding_size = 100\n",
    "        self.seq_length =200\n",
    "        self.n_units = 128\n",
    "        self.num_layers = 1 #적층 레이어를 위해\n",
    "        self.total_words = 9984 # gloVe dim에 맞추기\n",
    "        \n",
    "        self.encoder_gru = nn.GRU(\n",
    "            input_size=self.n_units,\n",
    "            hidden_size=self.n_units,\n",
    "            batch_first=True,\n",
    "            dropout=0.2,            \n",
    "        )\n",
    "\n",
    "        self.decoder_gru = nn.GRU(\n",
    "            input_size=self.n_units,\n",
    "            hidden_size=self.n_units,\n",
    "            batch_first=True,\n",
    "            dropout=0.2,            \n",
    "        )\n",
    "\n",
    "        self.fc = nn.Sequential(\n",
    "            nn.Linear(self.n_units,self.total_words),\n",
    "            nn.Softmax(),\n",
    "        )      \n",
    "        self.loss_fn = nn.CrossEntropyLoss()\n",
    "        self.optimizer = Adam(self.parameters(),lr=0.001)\n",
    "        self.dec_state =None #나중에 질문 생성을 위해\n",
    "\n",
    "    def forward(self,encoder_inputs,question,prev_state):  \n",
    "        # encoder_inputs [126, 25, 128]  #h_0 [1, 126, 128]을 원함. [1, 25, 128]\n",
    "        print(\"encoder_inputs.shape\",encoder_inputs.shape)\n",
    "        print(\"question.shape\",question.shape)\n",
    "        enc_output,enc_state = self.encoder_gru(encoder_inputs,prev_state)\n",
    "        # [126, 25, 128], [1, 126, 128]\n",
    "        print(\"enc_output.shape\",enc_output.shape)\n",
    "        print(\"enc_state.shape\",enc_state.shape)\n",
    "        # question [126, 13]\n",
    "        emb_question = self.embed(question).detach()\n",
    "        # [126, 13, 128]\n",
    "        print(\"emb_question.shape\",emb_question.shape)\n",
    "        dec_output,self.dec_state = self.decoder_gru( emb_question ,enc_state)\n",
    "        # [126, 13, 128], [1, 126, 128]\n",
    "        print(\"dec_output.shape\",dec_output.shape)\n",
    "        print(\"dec_state.shape\",self.dec_state.shape)\n",
    "\n",
    "        logits = self.fc(dec_output) \n",
    "        print(\"logits.shape\",logits.shape)\n",
    "        #[126, 13, 9984]\n",
    "        return logits\n",
    "    \n",
    "    def init_state(self):\n",
    "        return torch.zeros(self.num_layers, self.batch_size, self.n_units)\n",
    "\n",
    "    def answerMaskDotAnswerOutputs(self,answer_mask_label,answer_outputs):\n",
    "        # [119, 51, 200] x [119, 200, 512]\n",
    "        encoder_inputs = torch.bmm(answer_mask_label,answer_outputs)\n",
    "        # [119, 51, 512]\n",
    "        return encoder_inputs\n",
    "\n",
    "    def predictY(self,answer_mask_model,question_input_token,answer_mask_label):\n",
    "        self.embed = answer_mask_model.embed\n",
    "        \n",
    "        encoder_inputs = self.answerMaskDotAnswerOutputs(answer_mask_label,answer_mask_model.output)\n",
    "        \n",
    "        self.batch_size=encoder_inputs.shape[0]\n",
    "        state_h = self.init_state()\n",
    "        self.optimizer.zero_grad()\n",
    "        \n",
    "        y_pred = self.forward(encoder_inputs,question_input_token, state_h)\n",
    "        return y_pred\n",
    "\n",
    "    def build_loss(self,answer_mask_model,question_input_token,question_output_token,answer_mask_label):\n",
    "        y_pred = self.predictY(answer_mask_model,question_input_token,answer_mask_label)\n",
    "        y_pred = y_pred.view(-1,self.total_words)\n",
    "        loss = self.loss_fn(y_pred, question_output_token)\n",
    "\n",
    "        # loss.backward()\n",
    "        # self.optimizer.step()\n",
    "\n",
    "        return loss"
   ]
  },
  {
   "cell_type": "code",
   "execution_count": 66,
   "metadata": {},
   "outputs": [
    {
     "name": "stderr",
     "output_type": "stream",
     "text": [
      "d:\\miniconda3\\envs\\torch\\lib\\site-packages\\torch\\nn\\modules\\rnn.py:67: UserWarning: dropout option adds dropout after all but last recurrent layer, so non-zero dropout expects num_layers greater than 1, but got dropout=0.2 and num_layers=1\n",
      "  warnings.warn(\"dropout option adds dropout after all but last \"\n"
     ]
    }
   ],
   "source": [
    "answer_mask_model = answerMask()\n",
    "qna_model = QnAEncoderDecoderModel()"
   ]
  },
  {
   "cell_type": "code",
   "execution_count": null,
   "metadata": {},
   "outputs": [],
   "source": []
  },
  {
   "cell_type": "code",
   "execution_count": 13,
   "metadata": {},
   "outputs": [
    {
     "name": "stdout",
     "output_type": "stream",
     "text": [
      "에포크 1\n",
      "hi\n",
      "x.shape torch.Size([126, 200])\n",
      "emb_init.shape torch.Size([126, 200, 128])\n",
      "self.output.shape torch.Size([126, 200, 128])\n",
      "state.shape torch.Size([1, 126, 128])\n",
      "mask.shape torch.Size([126, 200, 2])\n",
      "===hi===\n",
      "encoder_inputs.shape torch.Size([126, 42, 128])\n",
      "question.shape torch.Size([126, 17])\n",
      "enc_output.shape torch.Size([126, 42, 128])\n",
      "enc_state.shape torch.Size([1, 126, 128])\n",
      "emb_question.shape torch.Size([126, 17, 128])\n",
      "dec_output.shape torch.Size([126, 17, 128])\n",
      "dec_state.shape torch.Size([1, 126, 128])\n"
     ]
    },
    {
     "name": "stderr",
     "output_type": "stream",
     "text": [
      "d:\\miniconda3\\envs\\torch\\lib\\site-packages\\torch\\nn\\modules\\container.py:204: UserWarning: Implicit dimension choice for softmax has been deprecated. Change the call to include dim=X as an argument.\n",
      "  input = module(input)\n"
     ]
    },
    {
     "name": "stdout",
     "output_type": "stream",
     "text": [
      "logits.shape torch.Size([126, 17, 9984])\n",
      "0: 훈련 손실: 9.9012\n",
      "hi\n",
      "x.shape torch.Size([128, 200])\n",
      "emb_init.shape torch.Size([128, 200, 128])\n",
      "self.output.shape torch.Size([128, 200, 128])\n",
      "state.shape torch.Size([1, 128, 128])\n",
      "mask.shape torch.Size([128, 200, 2])\n",
      "===hi===\n",
      "encoder_inputs.shape torch.Size([128, 25, 128])\n",
      "question.shape torch.Size([128, 15])\n",
      "enc_output.shape torch.Size([128, 25, 128])\n",
      "enc_state.shape torch.Size([1, 128, 128])\n",
      "emb_question.shape torch.Size([128, 15, 128])\n",
      "dec_output.shape torch.Size([128, 15, 128])\n",
      "dec_state.shape torch.Size([1, 128, 128])\n",
      "logits.shape torch.Size([128, 15, 9984])\n",
      "1: 훈련 손실: 9.9008\n"
     ]
    }
   ],
   "source": [
    "import numpy as np\n",
    "\n",
    "training_loss_hist = []\n",
    "test_loss_hist = []\n",
    "\n",
    "#EPOCHS = 2000\n",
    "EPOCHS = 1\n",
    "start_epoch = 1\n",
    "for epoch in range(start_epoch, start_epoch + EPOCHS + 1):\n",
    "    print(\"에포크 {0}\".format(epoch))\n",
    "    \n",
    "    for i, batch in enumerate(training_data()):\n",
    "        \n",
    "        val_batch = next(test_data_gen, None)\n",
    "        \n",
    "        if val_batch is None:\n",
    "            test_data_gen = test_data()\n",
    "            val_batch = next(test_data_gen, None)\n",
    "        print('hi')\n",
    "        answer_training_loss = answer_mask_model.build_loss(\n",
    "            torch.LongTensor( batch['document_tokens']),\n",
    "            torch.LongTensor(batch['answer_labels'].flatten()),\n",
    "        )\n",
    "        print('===hi===')\n",
    "        decoder_training_loss = qna_model.build_loss(\n",
    "            answer_mask_model,\n",
    "            torch.LongTensor(batch['question_input_tokens']),\n",
    "            torch.LongTensor(batch['question_output_tokens'].flatten()),\n",
    "            torch.FloatTensor( batch['answer_masks']),\n",
    "        )\n",
    "        \n",
    "    \n",
    "        \n",
    "        total_loss = answer_training_loss+ decoder_training_loss\n",
    "        training_loss_hist.append(total_loss.item())\n",
    "        total_loss.backward()\n",
    "        answer_mask_model.optimizer.step()\n",
    "        qna_model.optimizer.step()\n",
    "\n",
    "\n",
    "        print(f\"{i}: 훈련 손실: {total_loss.item():.4f}\")    \n",
    "        if i==1:\n",
    "            break\n",
    "#    if epoch % 100 == 0:\n",
    "#        print(f\"{i}: 훈련 손실: {total_loss:.4f}\")    \n",
    "    break"
   ]
  },
  {
   "attachments": {},
   "cell_type": "markdown",
   "metadata": {},
   "source": [
    "## 테스트  \n",
    "gan gdl 참고 후 수정"
   ]
  },
  {
   "cell_type": "code",
   "execution_count": 42,
   "metadata": {},
   "outputs": [
    {
     "name": "stdout",
     "output_type": "stream",
     "text": [
      "['july', '31st', '2005', '.', '']\n",
      "0 the\n",
      "1 winning\n",
      "2 goal\n",
      "3 was\n",
      "4 scored\n",
      "5 by\n",
      "6 23-year-old\n",
      "7 striker\n",
      "8 joe\n",
      "9 bloggs\n",
      "10 during\n",
      "11 the\n",
      "12 match\n",
      "13 between\n",
      "14 arsenal\n",
      "15 and\n",
      "16 barcelona\n",
      "17 .\n",
      "18 arsenal\n",
      "19 recently\n",
      "20 signed\n",
      "21 the\n",
      "22 striker\n",
      "23 for\n",
      "24 50\n",
      "25 million\n",
      "26 pounds\n",
      "27 .\n",
      "28 the\n",
      "29 next\n",
      "30 match\n",
      "31 is\n",
      "32 in\n",
      "33 two\n",
      "34 weeks\n",
      "35 time,\n",
      "36 on\n",
      "37 july\n",
      "38 31st\n",
      "39 2005\n",
      "40 .\n",
      "41 \n"
     ]
    }
   ],
   "source": [
    "test_data_gen = test_data()\n",
    "batch = next(test_data_gen)\n",
    "batch = collapse_documents(batch)\n",
    "idx=0\n",
    "print(batch['document_words'][idx][37:50])\n",
    "for i in range(len(batch['document_words'][idx])):\n",
    "    print(i, batch['document_words'][idx][i])"
   ]
  },
  {
   "cell_type": "code",
   "execution_count": null,
   "metadata": {},
   "outputs": [],
   "source": []
  },
  {
   "cell_type": "code",
   "execution_count": 44,
   "metadata": {},
   "outputs": [
    {
     "name": "stdout",
     "output_type": "stream",
     "text": [
      "x.shape torch.Size([1, 42])\n",
      "emb_init.shape torch.Size([1, 42, 128])\n",
      "self.output.shape torch.Size([1, 42, 128])\n",
      "state.shape torch.Size([1, 1, 128])\n",
      "mask.shape torch.Size([1, 42, 2])\n",
      "예측한 대답의 확률\n"
     ]
    },
    {
     "data": {
      "image/png": "[encoded data removed]",
      "text/plain": [
       "<Figure size 1500x500 with 1 Axes>"
      ]
     },
     "metadata": {},
     "output_type": "display_data"
    },
    {
     "name": "stdout",
     "output_type": "stream",
     "text": [
      "0 the 1.0\n",
      "1 winning 1.0\n",
      "2 goal 1.0\n",
      "3 was 1.0\n",
      "4 scored 1.0\n",
      "5 by 1.0\n",
      "6 23-year-old 1.0\n",
      "7 striker 1.0\n",
      "8 joe 1.0\n",
      "9 bloggs 1.0\n",
      "10 during 1.0\n",
      "11 the 1.0\n",
      "12 match 1.0\n",
      "13 between 1.0\n",
      "14 arsenal 1.0\n",
      "15 and 1.0\n",
      "16 barcelona 1.0\n",
      "17 . 1.0\n",
      "18 arsenal 1.0\n",
      "19 recently 1.0\n",
      "20 signed 1.0\n",
      "21 the 1.0\n",
      "22 striker 1.0\n",
      "23 for 1.0\n",
      "24 50 1.0\n",
      "25 million 1.0\n",
      "26 pounds 1.0\n",
      "27 . 1.0\n",
      "28 the 1.0\n",
      "29 next 1.0\n",
      "30 match 1.0\n",
      "31 is 1.0\n",
      "32 in 1.0\n",
      "33 two 1.0\n",
      "34 weeks 1.0\n",
      "35 time, 1.0\n",
      "36 on 1.0\n",
      "37 july 1.0\n",
      "38 31st 1.0\n",
      "39 2005 1.0\n",
      "40 . 1.0\n",
      "41  1.0\n"
     ]
    }
   ],
   "source": [
    "import matplotlib.pyplot as plt\n",
    "\n",
    "# 대답 위치 예측\n",
    "\n",
    "plt.figure(figsize=(15,5))\n",
    "idx = 0\n",
    "\n",
    "answer_mask_model.batch_size = torch.LongTensor( batch['document_tokens']).shape[0]\n",
    "answer_preds = answer_mask_model(torch.LongTensor( batch['document_tokens']),answer_mask_model.init_state())\n",
    "\n",
    "print('예측한 대답의 확률')\n",
    "ax = plt.gca()\n",
    "ax.xaxis.grid(True)\n",
    "plt.plot(answer_preds[idx, :, 1].detach().numpy())\n",
    "plt.show()\n",
    "\n",
    "for i in range(len(batch['document_words'][idx])):\n",
    "    print(i, batch['document_words'][idx][i], np.round(answer_preds[idx][i][1].detach().numpy(),2))"
   ]
  },
  {
   "cell_type": "code",
   "execution_count": 45,
   "metadata": {},
   "outputs": [
    {
     "name": "stdout",
     "output_type": "stream",
     "text": [
      "['july', '31st', '2005']\n"
     ]
    }
   ],
   "source": [
    "# 대답 위치 선정\n",
    "\n",
    "start_answer = 37\n",
    "end_answer = 39\n",
    "\n",
    "print(batch['document_words'][idx][start_answer:(1+end_answer)])"
   ]
  },
  {
   "cell_type": "code",
   "execution_count": 50,
   "metadata": {},
   "outputs": [
    {
     "name": "stdout",
     "output_type": "stream",
     "text": [
      "x.shape torch.Size([1, 42])\n",
      "emb_init.shape torch.Size([1, 42, 128])\n",
      "self.output.shape torch.Size([1, 42, 128])\n",
      "state.shape torch.Size([1, 1, 128])\n",
      "mask.shape torch.Size([1, 42, 2])\n",
      "[[   4  873  714   18  874   24 9870 3183 1959    1  105    4  549  118\n",
      "  3562    9 3567    6 3562  742  756    4 3183   13  691   94 1678    6\n",
      "     4  182  549   17   10   56  516    1   16  374    1  708    6    1]]\n"
     ]
    },
    {
     "name": "stderr",
     "output_type": "stream",
     "text": [
      "d:\\miniconda3\\envs\\torch\\lib\\site-packages\\torch\\nn\\modules\\container.py:204: UserWarning: Implicit dimension choice for softmax has been deprecated. Change the call to include dim=X as an argument.\n",
      "  input = module(input)\n"
     ]
    }
   ],
   "source": [
    "answer_mask_model.batch_size = torch.LongTensor( batch['document_tokens']).shape[0]\n",
    "answer_preds = answer_mask_model(torch.LongTensor( batch['document_tokens']),answer_mask_model.init_state())\n",
    "\n",
    "answers = [[0] * len(answer_preds[idx])]\n",
    "for i in range(start_answer, end_answer + 1):\n",
    "    answers[0][i] = 1\n",
    "\n",
    "answer_batch = expand_answers(batch, answers)\n",
    "print(answer_batch['document_tokens'][[idx]])"
   ]
  },
  {
   "cell_type": "code",
   "execution_count": 73,
   "metadata": {},
   "outputs": [
    {
     "name": "stdout",
     "output_type": "stream",
     "text": [
      "x.shape torch.Size([1, 42])\n",
      "emb_init.shape torch.Size([1, 42, 128])\n",
      "self.output.shape torch.Size([1, 42, 128])\n",
      "state.shape torch.Size([1, 1, 128])\n",
      "mask.shape torch.Size([1, 42, 2])\n",
      "encoder_inputs.shape torch.Size([1, 3, 128])\n",
      "question.shape torch.Size([1, 42])\n",
      "enc_output.shape torch.Size([1, 3, 128])\n",
      "enc_state.shape torch.Size([1, 1, 128])\n",
      "emb_question.shape torch.Size([1, 42, 128])\n",
      "dec_output.shape torch.Size([1, 42, 128])\n",
      "dec_state.shape torch.Size([1, 1, 128])\n",
      "logits.shape torch.Size([1, 42, 9984])\n",
      "next_decoder_init_state.shape torch.Size([1, 1, 128])\n",
      "look_up_token(word_tokens[0].detach().numpy()) <PAD>\n",
      "look_up_token(word_tokens[0].detach().numpy()) <PAD>\n",
      "look_up_token(word_tokens[0].detach().numpy()) <PAD>\n",
      "look_up_token(word_tokens[0].detach().numpy()) <PAD>\n",
      "look_up_token(word_tokens[0].detach().numpy()) <PAD>\n",
      "look_up_token(word_tokens[0].detach().numpy()) <PAD>\n",
      "look_up_token(word_tokens[0].detach().numpy()) <PAD>\n",
      "look_up_token(word_tokens[0].detach().numpy()) <PAD>\n",
      "look_up_token(word_tokens[0].detach().numpy()) <PAD>\n",
      "look_up_token(word_tokens[0].detach().numpy()) <PAD>\n",
      "look_up_token(word_tokens[0].detach().numpy()) <PAD>\n",
      "look_up_token(word_tokens[0].detach().numpy()) <PAD>\n",
      "look_up_token(word_tokens[0].detach().numpy()) <PAD>\n",
      "look_up_token(word_tokens[0].detach().numpy()) <PAD>\n",
      "look_up_token(word_tokens[0].detach().numpy()) <PAD>\n",
      "look_up_token(word_tokens[0].detach().numpy()) <PAD>\n",
      "look_up_token(word_tokens[0].detach().numpy()) <PAD>\n",
      "look_up_token(word_tokens[0].detach().numpy()) <PAD>\n",
      "look_up_token(word_tokens[0].detach().numpy()) <PAD>\n",
      "look_up_token(word_tokens[0].detach().numpy()) <PAD>\n",
      "look_up_token(word_tokens[0].detach().numpy()) <PAD>\n"
     ]
    }
   ],
   "source": [
    "from utils.write import START_TOKEN, END_TOKEN, look_up_token\n",
    "\n",
    "answer_mask_model.batch_size = torch.LongTensor( batch['document_tokens']).shape[0]\n",
    "answer_preds = answer_mask_model(torch.LongTensor( batch['document_tokens']),answer_mask_model.init_state())\n",
    "\n",
    "answers = [[0] * len(answer_preds[idx])]\n",
    "for i in range(start_answer, end_answer + 1):\n",
    "    answers[0][i] = 1\n",
    "\n",
    "answer_batch = expand_answers(batch, answers)\n",
    "with torch.no_grad():\n",
    "    qna_model.predictY(\n",
    "        answer_mask_model,\n",
    "        torch.LongTensor( answer_batch['document_tokens'][[idx]]), \n",
    "        torch.FloatTensor(answer_batch['answer_masks'][[idx]]))\n",
    "    next_decoder_init_state = qna_model.dec_state\n",
    "    print(\"next_decoder_init_state.shape\",next_decoder_init_state.shape)\n",
    "\n",
    "    word_tokens = [START_TOKEN]\n",
    "    questions = [look_up_token(START_TOKEN)]\n",
    "\n",
    "    ended = False\n",
    "    counter = 0\n",
    "\n",
    "    while not ended:\n",
    "        \n",
    "        counter += 1\n",
    "        #print(\"torch.LongTensor(word_tokens)\",torch.LongTensor(word_tokens).unsqueeze(1).shape)\n",
    "        emb_output=qna_model.embed(torch.LongTensor(word_tokens).unsqueeze(1))\n",
    "        #print(\"emb_output\",emb_output.shape)\n",
    "        decoder_output, next_decoder_init_state = qna_model.decoder_gru( \n",
    "            emb_output,\n",
    "            next_decoder_init_state)\n",
    "        \n",
    "        word_preds = qna_model.fc(decoder_output)\n",
    "        #print(\"word_preds.shape\",word_preds.shape)\n",
    "        word_tokens = torch.argmax(word_preds, 2)[0]\n",
    "        print(\"look_up_token(word_tokens[0].detach().numpy())\",look_up_token(word_tokens[0].detach().numpy()))\n",
    "        questions.append(look_up_token(word_tokens[0].detach().numpy()))\n",
    "\n",
    "        if word_tokens[0] == END_TOKEN or counter > 20 :\n",
    "            ended = True\n",
    "\n",
    "    questions = ' '.join(questions)"
   ]
  },
  {
   "cell_type": "code",
   "execution_count": null,
   "metadata": {},
   "outputs": [],
   "source": []
  },
  {
   "cell_type": "code",
   "execution_count": null,
   "metadata": {},
   "outputs": [],
   "source": [
    "test_data_gen = test_data()\n",
    "batch = next(test_data_gen)\n",
    "batch = collapse_documents(batch)"
   ]
  },
  {
   "cell_type": "code",
   "execution_count": 44,
   "metadata": {},
   "outputs": [
    {
     "data": {
      "text/plain": [
       "(128, 200)"
      ]
     },
     "execution_count": 44,
     "metadata": {},
     "output_type": "execute_result"
    }
   ],
   "source": [
    "batch['document_tokens'].shape"
   ]
  },
  {
   "cell_type": "code",
   "execution_count": 45,
   "metadata": {},
   "outputs": [
    {
     "name": "stdout",
     "output_type": "stream",
     "text": [
      "(128, 200)\n"
     ]
    },
    {
     "data": {
      "text/plain": [
       "(128, 200, 1)"
      ]
     },
     "execution_count": 45,
     "metadata": {},
     "output_type": "execute_result"
    }
   ],
   "source": [
    "print(batch['answer_labels'].shape)\n",
    "np.expand_dims(batch['answer_labels'], axis = -1).shape"
   ]
  },
  {
   "cell_type": "code",
   "execution_count": 11,
   "metadata": {},
   "outputs": [
    {
     "name": "stdout",
     "output_type": "stream",
     "text": [
      "(121, 18)\n"
     ]
    },
    {
     "data": {
      "text/plain": [
       "(121, 18, 1)"
      ]
     },
     "execution_count": 11,
     "metadata": {},
     "output_type": "execute_result"
    }
   ],
   "source": [
    "print(batch['question_output_tokens'].shape)\n",
    "np.expand_dims(batch['question_output_tokens'], axis = -1).shape"
   ]
  },
  {
   "cell_type": "code",
   "execution_count": null,
   "metadata": {},
   "outputs": [],
   "source": [
    "import matplotlib.pyplot as plt\n",
    "\n",
    "# 대답 위치 예측\n",
    "\n",
    "plt.figure(figsize=(15,5))\n",
    "idx = 0\n",
    "\n",
    "answer_preds = answer_model.predict(batch[\"document_tokens\"])\n",
    "\n",
    "print('예측한 대답의 확률')\n",
    "ax = plt.gca()\n",
    "ax.xaxis.grid(True)\n",
    "plt.plot(answer_preds[idx, :, 1])\n",
    "plt.show()\n",
    "\n",
    "for i in range(len(batch['document_words'][idx])):\n",
    "    print(i, batch['document_words'][idx][i], np.round(answer_preds[idx][i][1],2))"
   ]
  },
  {
   "cell_type": "code",
   "execution_count": 13,
   "metadata": {},
   "outputs": [
    {
     "name": "stdout",
     "output_type": "stream",
     "text": [
      "['july', '31st', '2005']\n",
      "['the', 'winning', 'goal', 'was', 'scored', 'by', '23-year-old', 'striker', 'joe', 'bloggs', 'during', 'the', 'match', 'between', 'arsenal', 'and', 'barcelona', '.', 'arsenal', 'recently', 'signed', 'the', 'striker', 'for', '50', 'million', 'pounds', '.', 'the', 'next', 'match', 'is', 'in', 'two', 'weeks', 'time,', 'on', 'july', '31st', '2005', '.', '']\n"
     ]
    }
   ],
   "source": [
    "# 대답 위치 선정\n",
    "\n",
    "start_answer = 37\n",
    "end_answer = 39\n",
    "print(batch['document_words'][idx][start_answer:(1+end_answer)])\n",
    "print(batch['document_words'][idx])\n"
   ]
  },
  {
   "cell_type": "code",
   "execution_count": 22,
   "metadata": {},
   "outputs": [
    {
     "name": "stdout",
     "output_type": "stream",
     "text": [
      "[[0, 0, 0, 0, 0, 0, 0, 0, 0, 0, 0, 0, 0, 0, 0, 0, 0, 0, 0, 0, 0, 0, 0, 0, 0, 0, 0, 0, 0, 0, 0, 0, 0, 0, 0, 0, 0, 1, 0, 0]]\n",
      "[[0, 0, 0, 0, 0, 0, 0, 0, 0, 0, 0, 0, 0, 0, 0, 0, 0, 0, 0, 0, 0, 0, 0, 0, 0, 0, 0, 0, 0, 0, 0, 0, 0, 0, 0, 0, 0, 1, 1, 0]]\n",
      "[[0, 0, 0, 0, 0, 0, 0, 0, 0, 0, 0, 0, 0, 0, 0, 0, 0, 0, 0, 0, 0, 0, 0, 0, 0, 0, 0, 0, 0, 0, 0, 0, 0, 0, 0, 0, 0, 1, 1, 1]]\n"
     ]
    },
    {
     "data": {
      "text/plain": [
       "array([[   4,  873,  714,   18,  874,   24, 9870, 3183, 1959,    1,  105,\n",
       "           4,  549,  118, 3562,    9, 3567,    6, 3562,  742,  756,    4,\n",
       "        3183,   13,  691,   94, 1678,    6,    4,  182,  549,   17,   10,\n",
       "          56,  516,    1,   16,  374,    1,  708,    6,    1]])"
      ]
     },
     "execution_count": 22,
     "metadata": {},
     "output_type": "execute_result"
    }
   ],
   "source": [
    "answers = [[0] * 40]\n",
    "for i in range(start_answer, end_answer + 1):\n",
    "    answers[0][i] = 1\n",
    "    print(answers)\n",
    "\n",
    "answer_batch = expand_answers(batch, answers)\n",
    "answer_batch['document_tokens'][[0]]"
   ]
  },
  {
   "cell_type": "code",
   "execution_count": 23,
   "metadata": {},
   "outputs": [
    {
     "data": {
      "text/plain": [
       "array([[[0, 0, 0, 0, 0, 0, 0, 0, 0, 0, 0, 0, 0, 0, 0, 0, 0, 0, 0, 0, 0,\n",
       "         0, 0, 0, 0, 0, 0, 0, 0, 0, 0, 0, 0, 0, 0, 0, 0, 1, 0, 0, 0, 0],\n",
       "        [0, 0, 0, 0, 0, 0, 0, 0, 0, 0, 0, 0, 0, 0, 0, 0, 0, 0, 0, 0, 0,\n",
       "         0, 0, 0, 0, 0, 0, 0, 0, 0, 0, 0, 0, 0, 0, 0, 0, 0, 1, 0, 0, 0],\n",
       "        [0, 0, 0, 0, 0, 0, 0, 0, 0, 0, 0, 0, 0, 0, 0, 0, 0, 0, 0, 0, 0,\n",
       "         0, 0, 0, 0, 0, 0, 0, 0, 0, 0, 0, 0, 0, 0, 0, 0, 0, 0, 1, 0, 0]]])"
      ]
     },
     "execution_count": 23,
     "metadata": {},
     "output_type": "execute_result"
    }
   ],
   "source": [
    "answer_batch['answer_masks'][[idx]]"
   ]
  },
  {
   "cell_type": "code",
   "execution_count": null,
   "metadata": {},
   "outputs": [],
   "source": [
    "answer_preds = answer_model.predict(batch[\"document_tokens\"])\n",
    "\n",
    "answers = [[0] * len(answer_preds[idx])]\n",
    "for i in range(start_answer, end_answer + 1):\n",
    "    answers[0][i] = 1\n",
    "\n",
    "answer_batch = expand_answers(batch, answers)\n",
    "\n",
    "next_decoder_init_state = decoder_initial_state_model.predict([answer_batch['document_tokens'][[idx]], answer_batch['answer_masks'][[idx]]])\n",
    "\n",
    "word_tokens = [START_TOKEN]\n",
    "questions = [look_up_token(START_TOKEN)]\n",
    "\n",
    "ended = False\n",
    "counter = 0\n",
    "\n",
    "while not ended:\n",
    "    \n",
    "    counter += 1\n",
    "\n",
    "    word_preds, next_decoder_init_state = question_model.predict([word_tokens, next_decoder_init_state])\n",
    "\n",
    "    next_decoder_init_state = np.squeeze(next_decoder_init_state, axis = 1)\n",
    "    word_tokens = np.argmax(word_preds, 2)[0]\n",
    "\n",
    "    questions.append(look_up_token(word_tokens[0]))\n",
    "\n",
    "    if word_tokens[0] == END_TOKEN or counter > 20 :\n",
    "        ended = True\n",
    "\n",
    "questions = ' '.join(questions)"
   ]
  }
 ],
 "metadata": {
  "kernelspec": {
   "display_name": "torch",
   "language": "python",
   "name": "python3"
  },
  "language_info": {
   "codemirror_mode": {
    "name": "ipython",
    "version": 3
   },
   "file_extension": ".py",
   "mimetype": "text/x-python",
   "name": "python",
   "nbconvert_exporter": "python",
   "pygments_lexer": "ipython3",
   "version": "3.9.16"
  },
  "orig_nbformat": 4,
  "vscode": {
   "interpreter": {
    "hash": "747fe91b7bc9ec9d8624ac8c139c41948fb906c2c40d5ffbc4d71da454373257"
   }
  }
 },
 "nbformat": 4,
 "nbformat_minor": 2
}
